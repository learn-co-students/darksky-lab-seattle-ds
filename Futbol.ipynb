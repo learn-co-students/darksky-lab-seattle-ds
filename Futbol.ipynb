{
 "cells": [
  {
   "cell_type": "code",
   "execution_count": 2,
   "metadata": {},
   "outputs": [],
   "source": [
    "import sqlite3\n",
    "import pymongo\n",
    "import pandas as pd\n",
    "import requests"
   ]
  },
  {
   "cell_type": "code",
   "execution_count": 60,
   "metadata": {},
   "outputs": [],
   "source": [
    "def pullmatchdata(season):\n",
    "    conn = sqlite3.connect(\"database.sqlite\")\n",
    "    cur = conn.cursor()\n",
    "    search_home = f\"\"\"SELECT HomeTeam, Season, Div, SUM(FTHG) AS HomeGoals, COUNT(FTR) AS HomeWins \n",
    "                      FROM matches\n",
    "                      WHERE Season = {season} AND FTR = 'H' AND (Div = 'D1' OR Div = 'E0')\n",
    "                      GROUP BY HomeTeam;\"\"\"\n",
    "    dfhome = pd.read_sql_query(search_home, conn)\n",
    "    search_away = f\"\"\"SELECT AwayTeam, SUM(FTAG) AS AwayGoals, COUNT(FTR) AS AwayWins \n",
    "                      FROM matches\n",
    "                      WHERE Season = {season} AND FTR = 'A' AND (Div = 'D1' OR Div = 'E0')\n",
    "                      GROUP BY AwayTeam;\"\"\"\n",
    "    dfaway = pd.read_sql_query(search_away, conn)\n",
    "    df = pd.merge(dfhome, dfaway, how='inner', left_on='HomeTeam', right_on='AwayTeam')\n",
    "    del df['AwayTeam']\n",
    "    df.rename(columns = {'HomeTeam':'TeamName'}, inplace = True)\n",
    "    df['TotalGoals'] = df['HomeGoals'] + df['AwayGoals']\n",
    "    df['TotalWins'] = df['HomeWins'] + df['AwayWins']\n",
    "    return df"
   ]
  },
  {
   "cell_type": "code",
   "execution_count": null,
   "metadata": {},
   "outputs": [],
   "source": []
  }
 ],
 "metadata": {
  "kernelspec": {
   "display_name": "soccer_env",
   "language": "python",
   "name": "soccer_env"
  },
  "language_info": {
   "codemirror_mode": {
    "name": "ipython",
    "version": 3
   },
   "file_extension": ".py",
   "mimetype": "text/x-python",
   "name": "python",
   "nbconvert_exporter": "python",
   "pygments_lexer": "ipython3",
   "version": "3.6.6"
  }
 },
 "nbformat": 4,
 "nbformat_minor": 2
}
